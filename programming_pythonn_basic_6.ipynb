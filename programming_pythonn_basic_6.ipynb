{
  "nbformat": 4,
  "nbformat_minor": 0,
  "metadata": {
    "colab": {
      "provenance": []
    },
    "kernelspec": {
      "name": "python3",
      "display_name": "Python 3"
    },
    "language_info": {
      "name": "python"
    }
  },
  "cells": [
    {
      "cell_type": "code",
      "execution_count": null,
      "metadata": {
        "id": "AZkLyBTlbnJm"
      },
      "outputs": [],
      "source": [
        "#1. Write a Python Program to Display Fibonacci Sequence using Recursion ?\n",
        "def genFibonacci(n,a,b):\n",
        "    if n == 0:\n",
        "        return 1\n",
        "    else:\n",
        "        result = a+b\n",
        "        print(result, end=', ')\n",
        "        genFibonacci(n-1,b,result)\n",
        "in_num = int(input('Enter the length of Series: '))\n",
        "print('0, 1',end=', ')\n",
        "genFibonacci(in_num,1,2)"
      ]
    },
    {
      "cell_type": "code",
      "source": [
        "#2. Write a Python Program to Find Factorial of a Number using Recursion ?\n",
        "def factorial(num):\n",
        "    if (num < 1):\n",
        "        return 1\n",
        "    else:\n",
        "        return num*factorial(num-1)\n",
        "num = int(input('Enter a number: '))\n",
        "value = factorial(num)\n",
        "print(f'The Factorial of {num} is {value}')"
      ],
      "metadata": {
        "id": "yKea4Aeubrek"
      },
      "execution_count": null,
      "outputs": []
    },
    {
      "cell_type": "code",
      "source": [
        "#3. Write a Python Program to Calculate your Body Mass Index ?\n",
        "def calculateBMI():\n",
        "    in_weight = eval(input('Enter your Weight(kgs): '))\n",
        "    in_height = eval(input('Enter your Height(mts): '))\n",
        "    calc_bmi = in_weight/pow(in_height,2)\n",
        "    if (calc_bmi < 18.5):\n",
        "        status = 'Underweight'\n",
        "    elif (calc_bmi >= 18.5 and calc_bmi < 24.9):\n",
        "        status = 'Healthy'\n",
        "    elif (calc_bmi >= 24.9 and calc_bmi < 30):\n",
        "        status = 'Overweight'\n",
        "    elif (calc_bmi >=30):\n",
        "        status = 'Suffering from Obesity'\n",
        "    print(f'Your\\'re BMI is {calc_bmi} and status is {status} ')\n",
        "calculateBMI()"
      ],
      "metadata": {
        "id": "GCNhHnEfbrg1"
      },
      "execution_count": null,
      "outputs": []
    },
    {
      "cell_type": "code",
      "source": [
        "#4. Write a Python Program to Calculate the Natural Logarithm of any Number ?\n",
        "import math\n",
        "def genNatLog():\n",
        "    in_num = eval(input(\"Enter a Number:\"))\n",
        "    print(math.log(in_num))\n",
        "\n",
        "genNatLog()"
      ],
      "metadata": {
        "id": "Fxy53UIYbrjK"
      },
      "execution_count": null,
      "outputs": []
    },
    {
      "cell_type": "code",
      "source": [
        "#5. Write a Python Program for Cube sum of first n Natural Numbers ?\n",
        "def cubeOfNaturalNumbers():\n",
        "    in_num = int(input(\"Enter the no of Natural Numbers: \"))\n",
        "    result = pow(((in_num * (in_num +1))/2),2)\n",
        "    print(f'The Cube Sum of First {in_num} Natural Numbers is {result}')\n",
        "\n",
        "cubeOfNaturalNumbers()"
      ],
      "metadata": {
        "id": "-0ie9lTebrmh"
      },
      "execution_count": null,
      "outputs": []
    }
  ]
}