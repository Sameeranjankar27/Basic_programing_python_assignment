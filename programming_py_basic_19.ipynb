{
  "nbformat": 4,
  "nbformat_minor": 0,
  "metadata": {
    "colab": {
      "provenance": []
    },
    "kernelspec": {
      "name": "python3",
      "display_name": "Python 3"
    },
    "language_info": {
      "name": "python"
    }
  },
  "cells": [
    {
      "cell_type": "code",
      "execution_count": null,
      "metadata": {
        "id": "h2c-R2-9k9Wi"
      },
      "outputs": [],
      "source": [
        "#1.Create a function that takes a string and returns a string in which each character is repeated once.\n",
        "\"\"\"\n",
        "Examples:\n",
        "double_char(\"String\") ➞ \"SSttrriinngg\"\n",
        "double_char(\"Hello World!\") ➞ \"HHeelllloo WWoorrlldd!!\"\n",
        "doublechar(\"1234!_\") ➞ \"11223344!!__\"\n",
        "\"\"\"\n",
        "\n",
        "def double_char(in_string):\n",
        "    out_string = ''\n",
        "    for ele in in_string:\n",
        "        out_string += ele*2\n",
        "    return out_string\n",
        "\n",
        "print(f'➞ {double_char(\"String\")}')\n",
        "print(f'➞ {double_char(\"Hello World!\")}')\n",
        "print(f'➞ {double_char(\"1234!_\")}')\n"
      ]
    },
    {
      "cell_type": "code",
      "source": [
        "#2.Create a function that reverses a boolean value and returns the string \"boolean expected\" if another variable type is given.\n",
        "\"\"\"\n",
        "Examples:\n",
        "reverse(True) ➞ False\n",
        "reverse(False) ➞ True\n",
        "reverse(0) ➞ \"boolean expected\"\n",
        "reverse(None) ➞ \"boolean expected\"\n",
        "\"\"\"\n",
        "\n",
        "def reverse(in_bool):\n",
        "    if type(in_bool) == bool:\n",
        "        return not in_bool\n",
        "    else:\n",
        "        return \"Boolean Expected\"\n",
        "\n",
        "print(f'reverse(True) ➞ {reverse(True)}')\n",
        "print(f'reverse(False) ➞ {reverse(False)}')\n",
        "print(f'reverse(0) ➞ {reverse(0)}')\n",
        "print(f'reverse(None) ➞ {reverse(None)}')\n"
      ],
      "metadata": {
        "id": "irurCRpCk_w-"
      },
      "execution_count": null,
      "outputs": []
    },
    {
      "cell_type": "code",
      "source": [
        "#3. Create a function that returns the thickness (in meters) of a piece of paper after folding it n number of times. The paper starts off with a thickness of 0.5mm.\n",
        "\"\"\"\n",
        "Examples:\n",
        "num_layers(1) ➞ \"0.001m\" # Paper folded once is 1mm (equal to 0.001m) num_layers(4) ➞ \"0.008m\" # Paper folded 4 \n",
        "times is 8mm (equal to 0.008m) num_layers(21) ➞ \"1048.576m\" # Paper folded 21 times is 1048576mm (equal to 1048.576m)\n",
        "\"\"\"\n",
        "\n",
        "def num_layers(in_num):\n",
        "    out_num = 0.5\n",
        "    for ele in range(in_num):\n",
        "        out_num *= 2\n",
        "    print(f'Output ➞ {out_num/1000}m')\n",
        "    \n",
        "num_layers(1)\n",
        "num_layers(4)\n",
        "num_layers(21)\n"
      ],
      "metadata": {
        "id": "XATRCkgVk_28"
      },
      "execution_count": null,
      "outputs": []
    },
    {
      "cell_type": "code",
      "source": [
        "#4.Create a function that takes a single string as argument and returns an ordered list containing the indices of all capital letters in the string.\n",
        "\"\"\"\n",
        "Examples:\n",
        "index_of_caps(\"eDaBiT\") ➞ [1, 3, 5]\n",
        "index_of_caps(\"eQuINoX\") ➞ [1, 3, 4, 6]\n",
        "index_of_caps(\"determine\") ➞ []\n",
        "index_of_caps(\"STRIKE\") ➞ [0, 1, 2, 3, 4, 5]\n",
        "index_of_caps(\"sUn\") ➞ [1]\n",
        "\"\"\"\n",
        "def index_of_caps(in_string):\n",
        "    out_string = []\n",
        "    for ele in in_string:\n",
        "        if ele.isupper():\n",
        "            out_string.append(in_string.index(ele))\n",
        "    print(f'{in_string} ➞ {out_string}')\n",
        "\n",
        "index_of_caps(\"eDaBiT\")\n",
        "index_of_caps(\"eQuINoX\")\n",
        "index_of_caps(\"determine\")\n",
        "index_of_caps(\"STRIKE\")\n",
        "index_of_caps(\"sUn\")"
      ],
      "metadata": {
        "id": "PvhMk9klk_5R"
      },
      "execution_count": null,
      "outputs": []
    },
    {
      "cell_type": "code",
      "source": [
        "#5.Using list comprehensions, create a function that finds all even numbers from 1 to the given number.\n",
        "\"\"\"\n",
        "Examples:\n",
        "find_even_nums(8) ➞ [2, 4, 6, 8]\n",
        "find_even_nums(4) ➞ [2, 4]\n",
        "find_even_nums(2) ➞ [2]\"\"\"\n",
        "\n",
        "def find_even_nums(in_num):\n",
        "    out_list = [i for i in range(1,in_num+1) if i%2 == 0]\n",
        "    print(f'Output ➞ {out_list}')\n",
        "    \n",
        "find_even_nums(8)\n",
        "find_even_nums(4)\n",
        "find_even_nums(2)"
      ],
      "metadata": {
        "id": "GCvb9wOyk_8B"
      },
      "execution_count": null,
      "outputs": []
    },
    {
      "cell_type": "code",
      "source": [
        "#"
      ],
      "metadata": {
        "id": "YHfDF5xpk_-S"
      },
      "execution_count": null,
      "outputs": []
    },
    {
      "cell_type": "code",
      "source": [
        "#"
      ],
      "metadata": {
        "id": "kdcnvzDslAAt"
      },
      "execution_count": null,
      "outputs": []
    },
    {
      "cell_type": "code",
      "source": [],
      "metadata": {
        "id": "Jg0bqadhlADH"
      },
      "execution_count": null,
      "outputs": []
    },
    {
      "cell_type": "code",
      "source": [],
      "metadata": {
        "id": "TpSGxNo3lAGc"
      },
      "execution_count": null,
      "outputs": []
    }
  ]
}