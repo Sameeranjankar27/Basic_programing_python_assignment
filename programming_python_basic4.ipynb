{
  "nbformat": 4,
  "nbformat_minor": 0,
  "metadata": {
    "colab": {
      "provenance": []
    },
    "kernelspec": {
      "name": "python3",
      "display_name": "Python 3"
    },
    "language_info": {
      "name": "python"
    }
  },
  "cells": [
    {
      "cell_type": "code",
      "execution_count": null,
      "metadata": {
        "id": "BzuEzs8-Zgms"
      },
      "outputs": [],
      "source": [
        "#1.Write a Python Program to find the factorial of a number ?\n",
        "def factorial(num):\n",
        "    if (num < 1):\n",
        "        return 1\n",
        "    else:\n",
        "        return num*factorial(num-1)\n",
        "num = int(input('Enter a number: '))\n",
        "value = factorial(num)\n",
        "print(f'The Factorial of {num} is {value}')"
      ]
    },
    {
      "cell_type": "code",
      "source": [
        "#2.Write a Python Program to display the multiplication table ?\n",
        "def generateTable(base,entries):\n",
        "    for x in range(1,entries+1):\n",
        "        print(f'{base} X {x} = {base*x}')\n",
        "\n",
        "num = int(input('Enter a number: '))\n",
        "values = int(input('Enter no of entries: '))\n",
        "generateTable(num,values)"
      ],
      "metadata": {
        "id": "Wcakdi31Zkfh"
      },
      "execution_count": null,
      "outputs": []
    },
    {
      "cell_type": "code",
      "source": [
        "#3.Write a Python Program to print the fibonacci sequence ?\n",
        "s_count = int(input('Enter the no of fibonacci sequences you want? '))\n",
        "initial_list = [0,1]\n",
        "if s_count < 0:\n",
        "    print('Fibonacci Numbers are not available for Negative Numbers')\n",
        "elif s_count <= 2 and s_count >= 0:\n",
        "    print(initial_list)\n",
        "else:\n",
        "    for ins in range(s_count):\n",
        "        if ins >= 2:\n",
        "            initial_list.append(initial_list[ins-1]+initial_list[ins-2])\n",
        "    print(f'The First {s_count} fibonacci series are: ',initial_list)"
      ],
      "metadata": {
        "id": "ARdI4kyiZkic"
      },
      "execution_count": null,
      "outputs": []
    },
    {
      "cell_type": "code",
      "source": [
        "#4.Write a Python Program to check Armstrong number ?\n",
        "def checkArmstrongNumber():\n",
        "    in_num = input('Enter a number: ')\n",
        "    sum = 0\n",
        "    for char in range(len(in_num)):\n",
        "        sum = sum + pow(int(in_num[char]),3)\n",
        "    if sum == int(in_num):\n",
        "        print(f'{in_num} is a Armstrong Number')\n",
        "    else:\n",
        "        print(f'{in_num} is a Not Armstrong Number')\n",
        "\n",
        "for x in range(2):\n",
        "    checkArmstrongNumber()"
      ],
      "metadata": {
        "id": "IHELl6ofZklD"
      },
      "execution_count": null,
      "outputs": []
    },
    {
      "cell_type": "code",
      "source": [
        "#5.Write a Python Program to Find Armstrong number in an interval ?\n",
        "def checkArmstrongNumber(in_num, storage):\n",
        "    sum = 0\n",
        "    for char in range(len(in_num)):\n",
        "        sum = sum + pow(int(in_num[char]),3)\n",
        "    if sum == int(in_num):\n",
        "        storage.append(int(in_num))\n",
        "\n",
        "start_interval = int(input('Enter the Start of the Interval: '))\n",
        "end_interval = int(input('Enter the End of the Interval: '))\n",
        "list_of_armstrong = []\n",
        "\n",
        "if start_interval > end_interval:\n",
        "    print(\"Start Interval Cannot be Greater than End Interval\")\n",
        "else:\n",
        "    for number in range(start_interval,end_interval+1):\n",
        "        checkArmstrongNumber(str(number),list_of_armstrong)\n",
        "    print(f'The Armstrong numbers between {start_interval} and {end_interval} are {list_of_armstrong}')"
      ],
      "metadata": {
        "id": "1BNGHRtzZkof"
      },
      "execution_count": null,
      "outputs": []
    },
    {
      "cell_type": "code",
      "source": [
        "#6.Write a Python Program to sum of natural numbers ?\n",
        "def sumOfNaturalNumbers(num):\n",
        "    sum = num*((num+1)/2)\n",
        "    print(f'Sum of {num} natural numbers is {sum}')\n",
        "    \n",
        "num = int(input('Enter a number: '))\n",
        "sumOfNaturalNumbers(num)"
      ],
      "metadata": {
        "id": "oqZHUMIEZkqd"
      },
      "execution_count": null,
      "outputs": []
    },
    {
      "cell_type": "code",
      "source": [
        "#"
      ],
      "metadata": {
        "id": "TyXGjf8UZkt8"
      },
      "execution_count": null,
      "outputs": []
    },
    {
      "cell_type": "code",
      "source": [
        "#"
      ],
      "metadata": {
        "id": "1gDofGC0Zk2m"
      },
      "execution_count": null,
      "outputs": []
    },
    {
      "cell_type": "code",
      "source": [
        "#"
      ],
      "metadata": {
        "id": "7scKXq7AZk6E"
      },
      "execution_count": null,
      "outputs": []
    }
  ]
}