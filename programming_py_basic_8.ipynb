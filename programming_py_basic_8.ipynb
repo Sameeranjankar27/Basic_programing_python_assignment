{
  "nbformat": 4,
  "nbformat_minor": 0,
  "metadata": {
    "colab": {
      "provenance": []
    },
    "kernelspec": {
      "name": "python3",
      "display_name": "Python 3"
    },
    "language_info": {
      "name": "python"
    }
  },
  "cells": [
    {
      "cell_type": "code",
      "execution_count": null,
      "metadata": {
        "id": "NRg5AZVudcvP"
      },
      "outputs": [],
      "source": [
        "#1. Write a Python Program to Add two Matrices ?\n",
        "def addMatrices(a,b):\n",
        "    print(f'Inputs: {a},{b}')\n",
        "    if len(a) == len(b):\n",
        "        out_matrix = []\n",
        "        for ele in range(len(a)):\n",
        "            if len(a[ele]) == len(b[ele]):\n",
        "                out_matrix.append([])\n",
        "                for sub_ele in range(len(a[ele])):\n",
        "                    out_matrix[ele].append(a[ele][sub_ele]+b[ele][sub_ele])\n",
        "            else:\n",
        "                print('Both Matrices must contains same no of rows and columns') \n",
        "    else:\n",
        "        print('Both Matrices must contains same no of rows and columns')\n",
        "    print(f'Output: {out_matrix}')\n",
        "\n",
        "addMatrices([[1,2,3],[4,5,6],[7,8,9]],[[9,8,7],[6,5,4],[3,2,1]])\n",
        "addMatrices([[2,3,5],[1,1,1],[2,2,2]],[[4,3,5],[1,2,3],[3,2,1]])\n"
      ]
    },
    {
      "cell_type": "code",
      "source": [
        "#2. Write a Python Program to Multiply two Matrices ?\n",
        "a = [[1,2,3],[4,5,6],[7,8,9]]\n",
        "b = [[1,4,7],[2,5,8],[3,6,9]]\n",
        "\n",
        "def multiply_matrice(a,b):\n",
        "    output = []\n",
        "    if len(a[0]) == len(b):\n",
        "        for ele in range(len(a[0])):\n",
        "            output.append([0 for ele in range(len(b[0]))])\n",
        "        for i in range(len(a)):\n",
        "            for j in range(len(b[0])):\n",
        "                for k in range(len(b)):\n",
        "                    output[i][j] += a[i][k]*b[k][j]\n",
        "        print(output)     \n",
        "    else:\n",
        "        print('Matrix Multiplication is Not Possible')\n",
        "        \n",
        "multiply_matrice(a,b)"
      ],
      "metadata": {
        "id": "uVYHowJmderw"
      },
      "execution_count": null,
      "outputs": []
    },
    {
      "cell_type": "code",
      "source": [
        "#3. Write a Python Program to transpose a Matrix ?\n",
        "a = [[1,2,3],[4,5,6],[7,8,9]]\n",
        "b = [[1,2],[4,5],[7,8]]\n",
        "c = [[1,2,3],[4,5,6]]\n",
        "\n",
        "def generate_transpose(in_matrix):\n",
        "    out_matrix = []\n",
        "    for ele in range(len(in_matrix[0])):\n",
        "        out_matrix.append([0 for i in range(len(in_matrix))])\n",
        "    for i in range(len(in_matrix)):\n",
        "        for j in range(len(in_matrix[i])):\n",
        "            out_matrix[j][i] = in_matrix[i][j]\n",
        "    print(f'{in_matrix} -> {out_matrix}')\n",
        "        \n",
        "generate_transpose(a)\n",
        "generate_transpose(b)\n",
        "generate_transpose(c)"
      ],
      "metadata": {
        "id": "cN7_z3bWdeuQ"
      },
      "execution_count": null,
      "outputs": []
    },
    {
      "cell_type": "code",
      "source": [
        "#4. Write a Python Program to sort Words in an Alphabatical Order ?\n",
        "def sortString():\n",
        "    in_string = input(\"Enter a String: \").title()\n",
        "    sorted_list = sorted(in_string.split(' '))\n",
        "    print(' '.join(sorted_list))\n",
        "\n",
        "sortString()"
      ],
      "metadata": {
        "id": "p7kI9Qa8deyw"
      },
      "execution_count": null,
      "outputs": []
    },
    {
      "cell_type": "code",
      "source": [
        "#5. Write a Python Program to remove Punctuations From a String ?\n",
        "def removePunctuatuions():\n",
        "    punctuations = '''!()-[]{};:'\"\\,<>./?@#$%^&*_~'''\n",
        "    in_string = input('Enter a String: ')\n",
        "    out_string = ''\n",
        "    for ele in in_string:\n",
        "        if ele not in punctuations:\n",
        "            out_string += ele\n",
        "    print(out_string)\n",
        "    \n",
        "removePunctuatuions()"
      ],
      "metadata": {
        "id": "P6l8OSSrde1X"
      },
      "execution_count": null,
      "outputs": []
    },
    {
      "cell_type": "code",
      "source": [
        "#"
      ],
      "metadata": {
        "id": "hhSdhAF-de3-"
      },
      "execution_count": null,
      "outputs": []
    },
    {
      "cell_type": "code",
      "source": [],
      "metadata": {
        "id": "mvq1z_34de6d"
      },
      "execution_count": null,
      "outputs": []
    },
    {
      "cell_type": "code",
      "source": [],
      "metadata": {
        "id": "e9ulmsx6de9t"
      },
      "execution_count": null,
      "outputs": []
    }
  ]
}