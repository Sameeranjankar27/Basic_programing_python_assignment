{
  "nbformat": 4,
  "nbformat_minor": 0,
  "metadata": {
    "colab": {
      "provenance": []
    },
    "kernelspec": {
      "name": "python3",
      "display_name": "Python 3"
    },
    "language_info": {
      "name": "python"
    }
  },
  "cells": [
    {
      "cell_type": "code",
      "execution_count": null,
      "metadata": {
        "id": "iA18nTLBf1hG"
      },
      "outputs": [],
      "source": [
        "#1.Write a Python program to Extract Unique values dictionary values?\n",
        "in_dict = {1:'Rishikesh',2:'Badrinath',3:'Gangotri',4:'Yamunotri',5:'Kedarnath',6:'Tirupati',7:'Kedarnath'}\n",
        "print(in_dict.values())\n",
        "print(f'Unique Values: {list(set(in_dict.values()))}')"
      ]
    },
    {
      "cell_type": "code",
      "source": [
        "#2.Write a Python program to find the sum of all items in a dictionary?\n",
        "in_dict = {'Apple':10,'Mango':20,'Banana':30,'Guava':40,'PineApple':200}\n",
        "print('Sum of All items: ',sum(in_dict.values()))"
      ],
      "metadata": {
        "id": "_F4QgVuyf3ok"
      },
      "execution_count": null,
      "outputs": []
    },
    {
      "cell_type": "code",
      "source": [
        "#3.Write a Python program to Merging two Dictionaries?\n",
        "course_details = {\n",
        "    'cousre_name':'Ineuron'\n",
        "}\n",
        "instructors = {\n",
        "    'course_instructors':['Sudhanshu Kumar','Krish Naik']\n",
        "}\n",
        "course_details.update(instructors)\n",
        "print(course_details)"
      ],
      "metadata": {
        "id": "IB7PMtgRf3sn"
      },
      "execution_count": null,
      "outputs": []
    },
    {
      "cell_type": "code",
      "source": [
        "#4.Write a Python program to convert key-values list to flat dictionary?\n",
        "in_list = [('A',10),('B',20),('C',30),('D',40),('E',50),('F',60),('G',70),('H',80),('I',90),('J',100)]\n",
        "\n",
        "# Method #1\n",
        "dict(in_list)\n",
        "\n",
        "# Method #2\n",
        "out_dict = {}\n",
        "for ele in in_list:\n",
        "    out_dict[ele[0]] = ele[1]\n",
        "print(out_dict)"
      ],
      "metadata": {
        "id": "vw6Rtd2Qf3uZ"
      },
      "execution_count": null,
      "outputs": []
    },
    {
      "cell_type": "code",
      "source": [
        "#5.Write a Python program to insertion at the beginning in OrderedDict?\n",
        "from collections import OrderedDict\n",
        "dict_one = OrderedDict({'Apple':'Iphone','Microsoft':'Windows','Google':'chrome'})\n",
        "print('dict_one',dict_one)\n",
        "dict_two = {'Tesla':'SpaceX'}\n",
        "dict_one.update(dict_two)\n",
        "print('dict_one',dict_one)\n",
        "dict_one.move_to_end('Tesla',last=False)\n",
        "print('dict_one',dict_one)"
      ],
      "metadata": {
        "id": "i0DnQrIbf3w0"
      },
      "execution_count": null,
      "outputs": []
    },
    {
      "cell_type": "code",
      "source": [
        "#6.Write a Python program to check order of character in string using OrderedDict()?\n",
        "from collections import OrderedDict\n",
        "\n",
        "initial_list = {'a': 1000, 'f': 200, 'd': 300, 'c': 400, 'b': 500, 'e': 600}\n",
        "print(initial_list)\n",
        "\n",
        "final_list = OrderedDict(dict(sorted(initial_list.items())))\n",
        "print(final_list)"
      ],
      "metadata": {
        "id": "Pz5PYWZof3y9"
      },
      "execution_count": null,
      "outputs": []
    },
    {
      "cell_type": "code",
      "source": [
        "#7.Write a Python program to sort Python Dictionaries by Key or Value?\n",
        "d_items = {'Mango':100,'PineApple':22,'Banana':60,'Grape':13}\n",
        "\n",
        "def sort_dict(in_dict,sort_type):\n",
        "    if sort_type == 'key':\n",
        "        print(dict(sorted(in_dict.items(), key=lambda x:x[0], reverse=False)))\n",
        "    else:\n",
        "        print(dict(sorted(in_dict.items(), key=lambda x:x[1], reverse=False)))\n",
        "        \n",
        "sort_dict(d_items,'key')        \n",
        "sort_dict(d_items,'value')"
      ],
      "metadata": {
        "id": "EAPXLWacf31O"
      },
      "execution_count": null,
      "outputs": []
    },
    {
      "cell_type": "code",
      "source": [
        "#"
      ],
      "metadata": {
        "id": "nupkUg3Rf33j"
      },
      "execution_count": null,
      "outputs": []
    },
    {
      "cell_type": "code",
      "source": [
        "#"
      ],
      "metadata": {
        "id": "OkRJlf6_f35v"
      },
      "execution_count": null,
      "outputs": []
    },
    {
      "cell_type": "code",
      "source": [
        "#"
      ],
      "metadata": {
        "id": "lvlzHZuKf39m"
      },
      "execution_count": null,
      "outputs": []
    }
  ]
}