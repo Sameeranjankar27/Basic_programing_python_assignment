{
  "nbformat": 4,
  "nbformat_minor": 0,
  "metadata": {
    "colab": {
      "provenance": []
    },
    "kernelspec": {
      "name": "python3",
      "display_name": "Python 3"
    },
    "language_info": {
      "name": "python"
    }
  },
  "cells": [
    {
      "cell_type": "code",
      "execution_count": null,
      "metadata": {
        "id": "j_oDvuMjd6wK"
      },
      "outputs": [],
      "source": [
        "#1.Write a Python Program to check if the given number is a Disarium Number ?\n",
        "def checkDisariumNumber():\n",
        "    in_num = input('Enter a Number: ')\n",
        "    sum = 0\n",
        "    for item in range(len(in_num)):\n",
        "        sum = sum + int(in_num[item])**(item+1)\n",
        "    if sum == int(in_num):\n",
        "        print(f'{in_num} is a Disarium Number')\n",
        "    else:\n",
        "        print(f'{in_num} is a Not Disarium Number') \n",
        "\n",
        "checkDisariumNumber()\n",
        "checkDisariumNumber()"
      ]
    },
    {
      "cell_type": "code",
      "source": [
        "#2.Write a Python Program to print all Disarium numbers between 1 to 100 ?\n",
        "def printDisariumNumbers(start=0,end=100):\n",
        "    output_num = []\n",
        "    for number in range(start,end+1):\n",
        "        sum = 0\n",
        "        for item in range(len(str(number))):\n",
        "            sum = sum + int(str(number)[item])**(item+1)\n",
        "        if sum == number:\n",
        "            output_num.append(number)\n",
        "    return output_num\n",
        "            \n",
        "        \n",
        "printDisariumNumbers(1,1000)"
      ],
      "metadata": {
        "id": "4f5mgXkxd84g"
      },
      "execution_count": null,
      "outputs": []
    },
    {
      "cell_type": "code",
      "source": [
        "#3.Write a Python Program to check if the given number is Happy Number ?\n",
        "def checkHappyNumber():\n",
        "    in_num = input('Enter a Number: ')\n",
        "    in_num_duplicate = in_num\n",
        "    trackNumber = set()   \n",
        "    while True:\n",
        "        if in_num != '1' and str(in_num) not in trackNumber:\n",
        "            trackNumber.add(in_num)\n",
        "            sum = 0\n",
        "            for ele in range(len((in_num))):\n",
        "                sum = sum + int(in_num[ele])**2\n",
        "            in_num = str(sum)\n",
        "        elif str(in_num) in trackNumber:\n",
        "            print(f'{in_num_duplicate} is not a Happy Number')\n",
        "            break\n",
        "        else:\n",
        "            print(f'{in_num_duplicate} is a Happy Number')\n",
        "            break\n",
        "\n",
        "checkHappyNumber()\n",
        "checkHappyNumber()\n"
      ],
      "metadata": {
        "id": "k5xJwGQ1d87B"
      },
      "execution_count": null,
      "outputs": []
    },
    {
      "cell_type": "code",
      "source": [
        "#4.Write a Python Program to print all Happy numbers between 1 and 100 ?\n",
        "def checkHappyNumber(start=0,end=100):\n",
        "    happyNumbersList = []\n",
        "    for in_num in range(start,end+1):\n",
        "        in_num = str(in_num)\n",
        "        inum_holder = in_num\n",
        "        trackNumber = set()   \n",
        "        while True:\n",
        "            if in_num != '1' and str(in_num) not in trackNumber:\n",
        "                trackNumber.add(in_num)\n",
        "                sum = 0\n",
        "                for ele in range(len((in_num))):\n",
        "                    sum = sum + int(in_num[ele])**2\n",
        "                in_num = str(sum)\n",
        "            elif str(in_num) in trackNumber:\n",
        "                break\n",
        "            else:\n",
        "                happyNumbersList.append(int(inum_holder))\n",
        "                break\n",
        "    print(f'The Happy Numbers between {start} and {end} are {happyNumbersList}')\n",
        "    \n",
        "checkHappyNumber(0,100)"
      ],
      "metadata": {
        "id": "LIhUaZqyd89O"
      },
      "execution_count": null,
      "outputs": []
    },
    {
      "cell_type": "code",
      "source": [
        "#5.Write a Python Program to determine whether the given number is a Harshad Number ?\n",
        "def checkHarshadNumber():\n",
        "    in_num = input('Enter a Number: ')\n",
        "    sum = 0\n",
        "    for item in range(len(in_num)):\n",
        "        sum = sum + int(in_num[item])\n",
        "    if int(in_num)%sum == 0:\n",
        "        print(f'{in_num} is a Harshad Number')\n",
        "    else:\n",
        "        print(f'{in_num} is a Not Harshad Number')\n",
        "        \n",
        "checkHarshadNumber()\n",
        "checkHarshadNumber()"
      ],
      "metadata": {
        "id": "DqgbC9iUd9An"
      },
      "execution_count": null,
      "outputs": []
    },
    {
      "cell_type": "code",
      "source": [
        "#6.Write a Python Program to print all pronic numbers between 1 and 100 ?\n",
        "def printPronicNumbers(start=0,end=100):\n",
        "    outputList = []\n",
        "    for ele in range(start,end+1):\n",
        "        outputList.append((ele)*(ele+1))\n",
        "    print(outputList)\n",
        "                   \n",
        "printPronicNumbers()"
      ],
      "metadata": {
        "id": "1Nfid2A-d9G1"
      },
      "execution_count": null,
      "outputs": []
    },
    {
      "cell_type": "code",
      "source": [],
      "metadata": {
        "id": "YNoAgh09d9PX"
      },
      "execution_count": null,
      "outputs": []
    }
  ]
}