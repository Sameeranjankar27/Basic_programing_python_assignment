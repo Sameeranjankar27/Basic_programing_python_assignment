{
  "nbformat": 4,
  "nbformat_minor": 0,
  "metadata": {
    "colab": {
      "provenance": []
    },
    "kernelspec": {
      "name": "python3",
      "display_name": "Python 3"
    },
    "language_info": {
      "name": "python"
    }
  },
  "cells": [
    {
      "cell_type": "code",
      "execution_count": null,
      "metadata": {
        "id": "9LGLDCoAYKVO"
      },
      "outputs": [],
      "source": [
        "#1.Write a Python program to check if a Number is Positive, Negative or Zero ?\n",
        "def checkNumber(num):\n",
        "    if num > 0:\n",
        "        print('{} is a Postive number'.format(num))\n",
        "    elif num < 0:\n",
        "        print('{} is a Negative number'.format(num))\n",
        "    else:\n",
        "        print(\"Number is Zero\")\n",
        "        \n",
        "num = int(input(\"Enter a number: \"))\n",
        "checkNumber(num)"
      ]
    },
    {
      "cell_type": "code",
      "source": [
        "#2.Write a Python program to check if a Number is Odd or Even ?\n",
        "def checkNumber(num):\n",
        "    if num%2 == 0:\n",
        "        print('{} is a Even number'.format(num))\n",
        "    else:\n",
        "        print('{} is a Odd number'.format(num))\n",
        "        \n",
        "num = int(input(\"Enter a number: \"))\n",
        "checkNumber(num)"
      ],
      "metadata": {
        "id": "pJ4admERYMOX"
      },
      "execution_count": null,
      "outputs": []
    },
    {
      "cell_type": "code",
      "source": [
        "#3.Write a Python program to check Leap Year ?\n",
        "def checkYear(year):\n",
        "    if (year%4 == 0 and year%100 != 0 or year%400 == 0):\n",
        "        print(f'{year} is a Leap year')\n",
        "    else:\n",
        "        print(f'{year} is not a Leap year')\n",
        "\n",
        "year = int(input(\"Enter year: \"))\n",
        "checkYear(year)"
      ],
      "metadata": {
        "id": "4qGt8erNYMQu"
      },
      "execution_count": null,
      "outputs": []
    },
    {
      "cell_type": "code",
      "source": [
        "#4.Write a Python program to check Prime Number ?\n",
        "def isPrime(num):\n",
        "    flag = False\n",
        "    for i in range(2,num):\n",
        "        if num%i ==0:\n",
        "            flag= True\n",
        "            break\n",
        "    if(not flag):\n",
        "        print(f'{num} is a prime number')\n",
        "    else:\n",
        "        print(f'{num} is not a prime number')\n",
        "        \n",
        "number = int(input(\"Enter a number: \"))\n",
        "isPrime(number)"
      ],
      "metadata": {
        "id": "08-KgHrWYMTD"
      },
      "execution_count": null,
      "outputs": []
    },
    {
      "cell_type": "code",
      "source": [
        "#5.Write a Python program to print all Prime Numbers in an interval of 1-10000 ?\n",
        "primeNumbersList = []\n",
        "\n",
        "def generatePrimeNumbers():\n",
        "    for x in range(1,10000):\n",
        "        flag=False\n",
        "        for y in range(2,x):\n",
        "            if (x%y ==0):\n",
        "                flag = True\n",
        "                break\n",
        "        if (not flag):\n",
        "            primeNumbersList.append(x)\n",
        "        \n",
        "generatePrimeNumbers()\n",
        "print(primeNumbersList)"
      ],
      "metadata": {
        "id": "rvI6oO5LYMVr"
      },
      "execution_count": null,
      "outputs": []
    },
    {
      "cell_type": "code",
      "source": [
        "#"
      ],
      "metadata": {
        "id": "MJVCP26LYMZB"
      },
      "execution_count": null,
      "outputs": []
    },
    {
      "cell_type": "code",
      "source": [
        "#"
      ],
      "metadata": {
        "id": "z8s-ZmqKYMca"
      },
      "execution_count": null,
      "outputs": []
    }
  ]
}